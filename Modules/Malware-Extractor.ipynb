{
 "cells": [
  {
   "cell_type": "code",
   "execution_count": 22,
   "metadata": {},
   "outputs": [],
   "source": [
    "import dspy\n",
    "import utils\n",
    "import typing\n",
    "import json\n",
    "import os \n",
    "\n",
    "from dspy.teleprompt import MIPROv2\n",
    "from BasicHtmlToTextParser import BasicHtmlToTextParser\n",
    "from metrics import stixnet_f1\n",
    "\n",
    "from dotenv import load_dotenv\n",
    "_ = load_dotenv(\"../.env\")"
   ]
  },
  {
   "cell_type": "code",
   "execution_count": null,
   "metadata": {},
   "outputs": [],
   "source": []
  },
  {
   "cell_type": "code",
   "execution_count": 23,
   "metadata": {},
   "outputs": [
    {
     "name": "stdout",
     "output_type": "stream",
     "text": [
      "47 100 total: 147 train-ratio: 0.3197278911564626 dev-ratio: 0.6802721088435374\n"
     ]
    }
   ],
   "source": [
    "dataset = utils.get_dspy_examples_randomized(\"../LADDER-Dataset/\", BasicHtmlToTextParser(include_images=False), random_seed=1337)\n",
    "\n",
    "trainset, devset = utils.split_dataset(split_at=47, dataset=dataset)\n",
    "\n",
    "trainset, devset = utils.generate_malware_extraction_dataset(trainset), utils.generate_malware_extraction_dataset(devset)"
   ]
  },
  {
   "cell_type": "code",
   "execution_count": null,
   "metadata": {},
   "outputs": [],
   "source": []
  },
  {
   "cell_type": "code",
   "execution_count": null,
   "metadata": {},
   "outputs": [],
   "source": []
  },
  {
   "cell_type": "code",
   "execution_count": null,
   "metadata": {},
   "outputs": [],
   "source": []
  },
  {
   "cell_type": "code",
   "execution_count": null,
   "metadata": {},
   "outputs": [],
   "source": []
  },
  {
   "cell_type": "code",
   "execution_count": 24,
   "metadata": {},
   "outputs": [],
   "source": [
    "llama_3_1_8b_instruct_deepinfra = dspy.LM(model=\"openai/meta-llama/Meta-Llama-3.1-8B-Instruct\", api_key=os.environ.get(\"DEEPINFRA_API_KEY\"), base_url=\"https://api.deepinfra.com/v1/openai\", temperature=0.1, max_tokens=1024)\n",
    "\n",
    "llama_3_1_70b_instruct_turbo_deepinfra = dspy.LM(model=\"openai/meta-llama/Meta-Llama-3.1-70B-Instruct-Turbo\", api_key=os.environ.get(\"DEEPINFRA_API_KEY\"), base_url=\"https://api.deepinfra.com/v1/openai\", temperature=0.1, max_tokens=1024)\n",
    "\n",
    "llama_3_2_3b_instruct_deepinfra = dspy.LM(model=\"openai/meta-llama/Llama-3.2-3B-Instruct\", api_key=os.environ.get(\"DEEPINFRA_API_KEY\"), base_url=\"https://api.deepinfra.com/v1/openai\", temperature=0.1, max_tokens=1024)\n",
    "\n",
    "llama_3_2_1b_instruct_deepinfra = dspy.LM(model=\"openai/meta-llama/Llama-3.2-1B-Instruct\", api_key=os.environ.get(\"DEEPINFRA_API_KEY\"), base_url=\"https://api.deepinfra.com/v1/openai\", temperature=0.1, max_tokens=1024)\n",
    "\n",
    "qwen_2_5_7b_instruct_deepinfra = dspy.LM(model=\"openai/Qwen/Qwen2.5-7B-Instruct\", api_key=os.environ.get(\"DEEPINFRA_API_KEY\"), base_url=\"https://api.deepinfra.com/v1/openai\", temperature=0.1, max_tokens=1024)\n",
    "\n",
    "qwen_2_5_72b_instruct_deepinfra = dspy.LM(model=\"openai/Qwen/Qwen2.5-72B-Instruct\", api_key=os.environ.get(\"DEEPINFRA_API_KEY\"), base_url=\"https://api.deepinfra.com/v1/openai\", temperature=0.1, max_tokens=1024)\n",
    "\n",
    "\n",
    "\n",
    "# use for example vllm  https://github.com/vllm-project/vllm\n",
    "API_KEY = None\n",
    "BASE_URL = None\n",
    "qwen_2_5_1p5b_instruct_vllm = dspy.LM(\"openai/Qwen/Qwen2.5-1.5B-Instruct\",  api_key=API_KEY, base_url=BASE_URL, temperature=0.1, max_tokens=1024)\n",
    "qwen_2_5_3b_instruct_vllm = dspy.LM(model=\"openai/Qwen/Qwen2.5-3B-Instruct\", api_key=API_KEY, base_url=BASE_URL, temperature=0.1, max_tokens=1024)"
   ]
  },
  {
   "cell_type": "code",
   "execution_count": null,
   "metadata": {},
   "outputs": [],
   "source": []
  },
  {
   "cell_type": "code",
   "execution_count": null,
   "metadata": {},
   "outputs": [],
   "source": []
  },
  {
   "cell_type": "code",
   "execution_count": 25,
   "metadata": {},
   "outputs": [],
   "source": [
    "class MalwareExtractorSignature(dspy.Signature):\n",
    "    \"\"\"\n",
    "    Extract Malware Names mentioned in the threat report.  \n",
    "\n",
    "    Only include malware names that you consider as relevant for inclusion in a STIX-Bundle that represent the Cyber Threat Intelligence of this threat report. Ignore general malware names (e.g. RAT, Trojan, Spyware, etc.). \n",
    "    \"\"\"\n",
    "    threat_report: str = dspy.InputField()\n",
    "    malware_names: typing.List[str] = dspy.OutputField()\n",
    "\n",
    "\n",
    "module = dspy.Predict(MalwareExtractorSignature)"
   ]
  },
  {
   "cell_type": "code",
   "execution_count": null,
   "metadata": {},
   "outputs": [],
   "source": []
  },
  {
   "cell_type": "code",
   "execution_count": null,
   "metadata": {},
   "outputs": [],
   "source": []
  },
  {
   "cell_type": "code",
   "execution_count": 26,
   "metadata": {},
   "outputs": [],
   "source": [
    "PRECISION_STORE, RECALL_STORE, F1_STORE = [], [], []\n",
    "def metric(example, pred, trace=None):\n",
    "        gold_malware_names: typing.List[str] = example.malware_names\n",
    "        pred_malware_names: typing.List[str] = pred.malware_names\n",
    "        \n",
    "        gold_malware_names = [malware_name.lower() for malware_name in gold_malware_names]\n",
    "        pred_malware_names = [malware_name.lower() for malware_name in pred_malware_names]\n",
    "\n",
    "        if gold_malware_names == [] and pred_malware_names == []:\n",
    "            precision, recall, f1 = 1.0, 1.0, 1.0\n",
    "\n",
    "        else:\n",
    "            true_positives = len(set(pred_malware_names) & set(gold_malware_names))\n",
    "            false_positives = len(set(pred_malware_names) - set(gold_malware_names))\n",
    "            false_negatives = len(set(gold_malware_names) - set(pred_malware_names))\n",
    "\n",
    "            precision, recall, f1 = stixnet_f1(true_positives, false_positives, false_negatives)\n",
    "\n",
    "        PRECISION_STORE.append(precision)\n",
    "        RECALL_STORE.append(recall)\n",
    "        F1_STORE.append(f1)\n",
    "\n",
    "        if trace is None:\n",
    "            return f1\n",
    "        return f1 == 1\n",
    "\n",
    "\n",
    "for example in devset + trainset:\n",
    "    assert metric(example, example) == 1.0\n",
    "\n",
    "\n",
    "def save_and_evaluate(program: dspy.Predict, llm: dspy.LM, llm_id: str, base_path: str, valset: typing.List[dspy.Example]):\n",
    "    # #################################################################################################\n",
    "    global PRECISION_STORE\n",
    "    global RECALL_STORE\n",
    "    global F1_STORE\n",
    "\n",
    "    PRECISION_STORE, RECALL_STORE, F1_STORE = [], [], []\n",
    "    # #################################################################################################\n",
    "\n",
    "    with dspy.settings.context(lm=llm):\n",
    "        for obj in valset:\n",
    "            try:\n",
    "                pred = program(**obj.inputs())\n",
    "            except Exception as e:\n",
    "                PRECISION_STORE.append(0)\n",
    "                RECALL_STORE.append(0)\n",
    "                F1_STORE.append(0)\n",
    "                continue\n",
    "            \n",
    "            f1 = metric(obj, pred)\n",
    "\n",
    "    # store result\n",
    "    with open(f\"{base_path}/{llm_id}_precision.json\", \"w\") as fp:\n",
    "        json.dump(PRECISION_STORE, fp)\n",
    "\n",
    "    with open(f\"{base_path}/{llm_id}_recall.json\", \"w\") as fp:\n",
    "        json.dump(RECALL_STORE, fp)\n",
    "\n",
    "    with open(f\"{base_path}/{llm_id}_f1.json\", \"w\") as fp:\n",
    "        json.dump(F1_STORE, fp)"
   ]
  },
  {
   "cell_type": "code",
   "execution_count": null,
   "metadata": {},
   "outputs": [],
   "source": []
  },
  {
   "cell_type": "code",
   "execution_count": null,
   "metadata": {},
   "outputs": [],
   "source": []
  },
  {
   "cell_type": "code",
   "execution_count": null,
   "metadata": {},
   "outputs": [],
   "source": []
  },
  {
   "cell_type": "code",
   "execution_count": null,
   "metadata": {},
   "outputs": [],
   "source": []
  },
  {
   "cell_type": "code",
   "execution_count": null,
   "metadata": {},
   "outputs": [],
   "source": []
  },
  {
   "cell_type": "code",
   "execution_count": null,
   "metadata": {},
   "outputs": [],
   "source": []
  },
  {
   "cell_type": "code",
   "execution_count": null,
   "metadata": {},
   "outputs": [],
   "source": []
  },
  {
   "cell_type": "code",
   "execution_count": null,
   "metadata": {},
   "outputs": [],
   "source": []
  },
  {
   "cell_type": "code",
   "execution_count": null,
   "metadata": {},
   "outputs": [],
   "source": []
  },
  {
   "cell_type": "markdown",
   "metadata": {},
   "source": [
    "# ZERO SHOT OPTIMIERUNG"
   ]
  },
  {
   "cell_type": "code",
   "execution_count": null,
   "metadata": {},
   "outputs": [],
   "source": [
    "o1_optimizer_settings = dict(num_candidates = 10, max_bootstrapped_demos = 0, max_labeled_demos = 0, metric_threshold = None, init_temperature = 0.5, task_model = None, num_threads = 16, max_errors = 10, prompt_model=llama_3_1_70b_instruct_turbo_deepinfra, teacher_settings=dict(lm=llama_3_1_70b_instruct_turbo_deepinfra), auto=None)\n",
    "\n",
    "o1_compiler_settings = dict(num_trials = 30, minibatch = True, minibatch_size = 25, minibatch_full_eval_steps = 10, program_aware_proposer=True, data_aware_proposer=True, view_data_batch_size=10, tip_aware_proposer=True, fewshot_aware_proposer=True, requires_permission_to_run=False)"
   ]
  },
  {
   "cell_type": "code",
   "execution_count": null,
   "metadata": {},
   "outputs": [],
   "source": [
    "assert False, \"already finished and optimizer steps are not cached!\"\n",
    "\n",
    "BASE_PATH = \"./MalwareExtractor/ZERO-O1\"\n",
    "# mlflow.autolog()\n",
    "# mlflow.set_experiment(BASE_PATH)\n",
    "\n",
    "\n",
    "to_do = [\n",
    "    (\"llama_3_2_1b_instruct\", llama_3_2_1b_instruct_deepinfra),\n",
    "    (\"llama_3_2_3b_instruct\", llama_3_2_3b_instruct_deepinfra),\n",
    "    (\"llama_3_1_8b_instruct\", llama_3_1_8b_instruct_deepinfra),\n",
    "    (\"llama_3_1_70b_instruct\", llama_3_1_70b_instruct_turbo_deepinfra),\n",
    "\n",
    "    (\"qwen_2_5_7b_instruct\", qwen_2_5_7b_instruct_deepinfra),\n",
    "    (\"qwen_2_5_72b_instruct\", qwen_2_5_72b_instruct_deepinfra),\n",
    "]\n",
    "\n",
    "\n",
    "for llm_id, llm in to_do: \n",
    "    default_program = dspy.Predict(MalwareExtractorSignature)\n",
    "\n",
    "    o1_optimizer = MIPROv2(metric=metric, **o1_optimizer_settings)\n",
    "                    \n",
    "    with dspy.settings.context(lm=llm):\n",
    "        optimized_program = o1_optimizer.compile(student=default_program, trainset=trainset, valset=devset, **o1_compiler_settings)\n",
    "\n",
    "    # store program (cloudpickle)\n",
    "    optimized_program.save(f\"{BASE_PATH}/{llm_id}\", save_program=True)"
   ]
  },
  {
   "cell_type": "code",
   "execution_count": null,
   "metadata": {},
   "outputs": [],
   "source": []
  },
  {
   "cell_type": "code",
   "execution_count": null,
   "metadata": {},
   "outputs": [],
   "source": [
    "assert False, \"already finished and optimizer steps are not cached!\"\n",
    "\n",
    "BASE_PATH = \"./MalwareExtractor/ZERO-O1\"\n",
    "\n",
    "\n",
    "to_do = [\n",
    "    (\"qwen_2_5_1p5b_instruct\", qwen_2_5_1p5b_instruct_vllm)\n",
    "]\n",
    "\n",
    "\n",
    "for llm_id, llm in to_do: \n",
    "    default_program = dspy.Predict(MalwareExtractorSignature)\n",
    "\n",
    "    o1_optimizer = MIPROv2(metric=metric, **o1_optimizer_settings)\n",
    "                    \n",
    "    with dspy.settings.context(lm=llm):\n",
    "        optimized_program = o1_optimizer.compile(student=default_program, trainset=trainset, valset=devset, **o1_compiler_settings)\n",
    "\n",
    "    # store program (cloudpickle)\n",
    "    optimized_program.save(f\"{BASE_PATH}/{llm_id}\", save_program=True)"
   ]
  },
  {
   "cell_type": "code",
   "execution_count": null,
   "metadata": {},
   "outputs": [],
   "source": []
  },
  {
   "cell_type": "code",
   "execution_count": null,
   "metadata": {},
   "outputs": [],
   "source": [
    "assert False, \"already finished and optimizer steps are not cached!\"\n",
    "\n",
    "BASE_PATH = \"./MalwareExtractor/ZERO-O1\"\n",
    "\n",
    "\n",
    "to_do = [\n",
    "    (\"qwen_2_5_3b_instruct\", qwen_2_5_3b_instruct_vllm)\n",
    "]\n",
    "\n",
    "\n",
    "for llm_id, llm in to_do: \n",
    "    default_program = dspy.Predict(MalwareExtractorSignature)\n",
    "\n",
    "    o1_optimizer = MIPROv2(metric=metric, **o1_optimizer_settings)\n",
    "                    \n",
    "    with dspy.settings.context(lm=llm):\n",
    "        optimized_program = o1_optimizer.compile(student=default_program, trainset=trainset, valset=devset, **o1_compiler_settings)\n",
    "\n",
    "    # store program (cloudpickle)\n",
    "    optimized_program.save(f\"{BASE_PATH}/{llm_id}\", save_program=True)"
   ]
  },
  {
   "cell_type": "code",
   "execution_count": null,
   "metadata": {},
   "outputs": [],
   "source": []
  },
  {
   "cell_type": "code",
   "execution_count": null,
   "metadata": {},
   "outputs": [],
   "source": [
    "o2_optimizer_settings = dict(num_candidates = 25, max_bootstrapped_demos = 0, max_labeled_demos = 0, metric_threshold = None, init_temperature = 0.5, task_model = None, num_threads = 16,max_errors = 10, prompt_model=llama_3_1_70b_instruct_turbo_deepinfra, teacher_settings=dict(lm=llama_3_1_70b_instruct_turbo_deepinfra), auto=None)\n",
    "\n",
    "o2_compiler_settings = dict(num_trials = 50, minibatch = True, minibatch_size = 25, minibatch_full_eval_steps = 10, program_aware_proposer=True, data_aware_proposer=True, view_data_batch_size=10, tip_aware_proposer=True, fewshot_aware_proposer=True, requires_permission_to_run=False)"
   ]
  },
  {
   "cell_type": "code",
   "execution_count": null,
   "metadata": {},
   "outputs": [],
   "source": []
  },
  {
   "cell_type": "code",
   "execution_count": null,
   "metadata": {},
   "outputs": [],
   "source": [
    "assert False, \"already finished and optimizer steps are not cached!\"\n",
    "\n",
    "BASE_PATH = \"./MalwareExtractor/ZERO-O2\"\n",
    "# mlflow.autolog()\n",
    "# mlflow.set_experiment(BASE_PATH)\n",
    "\n",
    "to_do = [\n",
    "    (\"llama_3_2_1b_instruct\", llama_3_2_1b_instruct_deepinfra),\n",
    "    (\"llama_3_2_3b_instruct\", llama_3_2_3b_instruct_deepinfra),\n",
    "    (\"llama_3_1_8b_instruct\", llama_3_1_8b_instruct_deepinfra),\n",
    "    (\"llama_3_1_70b_instruct\", llama_3_1_70b_instruct_turbo_deepinfra),\n",
    "\n",
    "    (\"qwen_2_5_7b_instruct\", qwen_2_5_7b_instruct_deepinfra),\n",
    "    (\"qwen_2_5_72b_instruct\", qwen_2_5_72b_instruct_deepinfra),\n",
    "]\n",
    "\n",
    "for llm_id, llm in to_do: \n",
    "    default_program = dspy.Predict(MalwareExtractorSignature)\n",
    "\n",
    "    o2_optimizer = MIPROv2(metric=metric, **o2_optimizer_settings)\n",
    "\n",
    "    with dspy.settings.context(lm=llm):\n",
    "        optimized_program = o2_optimizer.compile(student=default_program, trainset=trainset, valset=devset, **o2_compiler_settings)\n",
    "\n",
    "    # store program (cloudpickle)\n",
    "    optimized_program.save(f\"{BASE_PATH}/{llm_id}\", save_program=True)"
   ]
  },
  {
   "cell_type": "code",
   "execution_count": null,
   "metadata": {},
   "outputs": [],
   "source": []
  },
  {
   "cell_type": "code",
   "execution_count": null,
   "metadata": {},
   "outputs": [],
   "source": []
  },
  {
   "cell_type": "code",
   "execution_count": null,
   "metadata": {},
   "outputs": [],
   "source": [
    "assert False, \"already finished and optimizer steps are not cached!\"\n",
    "\n",
    "BASE_PATH = \"./MalwareExtractor/ZERO-O2\"\n",
    "\n",
    "to_do = [\n",
    "    (\"qwen_2_5_1p5b_instruct\", qwen_2_5_1p5b_instruct_vllm)\n",
    "]\n",
    "\n",
    "for llm_id, llm in to_do: \n",
    "    default_program = dspy.Predict(MalwareExtractorSignature)\n",
    "\n",
    "    o2_optimizer = MIPROv2(metric=metric, **o2_optimizer_settings)\n",
    "\n",
    "    with dspy.settings.context(lm=llm):\n",
    "        optimized_program = o2_optimizer.compile(student=default_program, trainset=trainset, valset=devset, **o2_compiler_settings)\n",
    "\n",
    "    # store program (cloudpickle)\n",
    "    optimized_program.save(f\"{BASE_PATH}/{llm_id}\", save_program=True)"
   ]
  },
  {
   "cell_type": "code",
   "execution_count": null,
   "metadata": {},
   "outputs": [],
   "source": [
    "assert False, \"already finished and optimizer steps are not cached!\"\n",
    "BASE_PATH = \"./MalwareExtractor/ZERO-O2\"\n",
    "\n",
    "\n",
    "to_do = [\n",
    "    (\"qwen_2_5_3b_instruct\", qwen_2_5_3b_instruct_vllm)\n",
    "]\n",
    "\n",
    "for llm_id, llm in to_do: \n",
    "    default_program = dspy.Predict(MalwareExtractorSignature)\n",
    "\n",
    "    o2_optimizer = MIPROv2(metric=metric, **o2_optimizer_settings)\n",
    "\n",
    "    with dspy.settings.context(lm=llm):\n",
    "        optimized_program = o2_optimizer.compile(student=default_program, trainset=trainset, valset=devset, **o2_compiler_settings)\n",
    "\n",
    "    # store program (cloudpickle)\n",
    "    optimized_program.save(f\"{BASE_PATH}/{llm_id}\", save_program=True)"
   ]
  },
  {
   "cell_type": "code",
   "execution_count": null,
   "metadata": {},
   "outputs": [],
   "source": []
  },
  {
   "cell_type": "code",
   "execution_count": null,
   "metadata": {},
   "outputs": [],
   "source": []
  },
  {
   "cell_type": "code",
   "execution_count": null,
   "metadata": {},
   "outputs": [],
   "source": []
  },
  {
   "cell_type": "code",
   "execution_count": null,
   "metadata": {},
   "outputs": [],
   "source": []
  },
  {
   "cell_type": "markdown",
   "metadata": {},
   "source": [
    "# FEW SHOT OPTIMIERUNG"
   ]
  },
  {
   "cell_type": "code",
   "execution_count": null,
   "metadata": {},
   "outputs": [],
   "source": [
    "o1_optimizer_settings = dict(num_candidates = 10, max_bootstrapped_demos = 1, max_labeled_demos = 2, metric_threshold = None, init_temperature = 0.5, task_model = None, num_threads = 16, max_errors = 10, prompt_model=llama_3_1_70b_instruct_turbo_deepinfra, teacher_settings=dict(lm=llama_3_1_70b_instruct_turbo_deepinfra), auto=None)\n",
    "\n",
    "o1_compiler_settings = dict(num_trials = 30, minibatch = True, minibatch_size = 25, minibatch_full_eval_steps = 10, program_aware_proposer=True, data_aware_proposer=True, view_data_batch_size=10, tip_aware_proposer=True, fewshot_aware_proposer=True, requires_permission_to_run=False)"
   ]
  },
  {
   "cell_type": "code",
   "execution_count": null,
   "metadata": {},
   "outputs": [],
   "source": [
    "assert False, \"already finished and optimizer steps are not cached!\"\n",
    "\n",
    "BASE_PATH = \"./MalwareExtractor/FS-O1\"\n",
    "# mlflow.autolog()\n",
    "# mlflow.set_experiment(BASE_PATH)\n",
    "\n",
    "\n",
    "to_do = [\n",
    "    (\"llama_3_2_1b_instruct\", llama_3_2_1b_instruct_deepinfra),\n",
    "    (\"llama_3_2_3b_instruct\", llama_3_2_3b_instruct_deepinfra),\n",
    "    (\"llama_3_1_8b_instruct\", llama_3_1_8b_instruct_deepinfra),\n",
    "    (\"llama_3_1_70b_instruct\", llama_3_1_70b_instruct_turbo_deepinfra),\n",
    "\n",
    "    (\"qwen_2_5_7b_instruct\", qwen_2_5_7b_instruct_deepinfra),\n",
    "    (\"qwen_2_5_72b_instruct\", qwen_2_5_72b_instruct_deepinfra),\n",
    "]\n",
    "\n",
    "\n",
    "for llm_id, llm in to_do: \n",
    "    default_program = dspy.Predict(MalwareExtractorSignature)\n",
    "\n",
    "    o1_optimizer = MIPROv2(metric=metric, **o1_optimizer_settings)\n",
    "                    \n",
    "    with dspy.settings.context(lm=llm):\n",
    "        optimized_program = o1_optimizer.compile(student=default_program, trainset=trainset, valset=devset, **o1_compiler_settings)\n",
    "\n",
    "    # store program (cloudpickle)\n",
    "    optimized_program.save(f\"{BASE_PATH}/{llm_id}\", save_program=True)"
   ]
  },
  {
   "cell_type": "code",
   "execution_count": null,
   "metadata": {},
   "outputs": [],
   "source": [
    "assert False, \"already finished and optimizer steps are not cached!\"\n",
    "\n",
    "BASE_PATH = \"./MalwareExtractor/FS-O1\"\n",
    "\n",
    "to_do = [\n",
    "    (\"qwen_2_5_1p5b_instruct\", qwen_2_5_1p5b_instruct_vllm)\n",
    "]\n",
    "\n",
    "\n",
    "for llm_id, llm in to_do: \n",
    "    default_program = dspy.Predict(MalwareExtractorSignature)\n",
    "\n",
    "    o1_optimizer = MIPROv2(metric=metric, **o1_optimizer_settings)\n",
    "                    \n",
    "    with dspy.settings.context(lm=llm):\n",
    "        optimized_program = o1_optimizer.compile(student=default_program, trainset=trainset, valset=devset, **o1_compiler_settings)\n",
    "\n",
    "    # store program (cloudpickle)\n",
    "    optimized_program.save(f\"{BASE_PATH}/{llm_id}\", save_program=True)"
   ]
  },
  {
   "cell_type": "code",
   "execution_count": null,
   "metadata": {},
   "outputs": [],
   "source": [
    "assert False, \"already finished and optimizer steps are not cached!\"\n",
    "\n",
    "BASE_PATH = \"./MalwareExtractor/FS-O1\"\n",
    "# mlflow.autolog()\n",
    "# mlflow.set_experiment(BASE_PATH)\n",
    "\n",
    "\n",
    "to_do = [\n",
    "    (\"qwen_2_5_3b_instruct\", qwen_2_5_3b_instruct_vllm)\n",
    "]\n",
    "\n",
    "\n",
    "for llm_id, llm in to_do: \n",
    "    default_program = dspy.Predict(MalwareExtractorSignature)\n",
    "\n",
    "    o1_optimizer = MIPROv2(metric=metric, **o1_optimizer_settings)\n",
    "                    \n",
    "    with dspy.settings.context(lm=llm):\n",
    "        optimized_program = o1_optimizer.compile(student=default_program, trainset=trainset, valset=devset, **o1_compiler_settings)\n",
    "\n",
    "    # store program (cloudpickle)\n",
    "    optimized_program.save(f\"{BASE_PATH}/{llm_id}\", save_program=True)"
   ]
  },
  {
   "cell_type": "code",
   "execution_count": null,
   "metadata": {},
   "outputs": [],
   "source": []
  },
  {
   "cell_type": "code",
   "execution_count": null,
   "metadata": {},
   "outputs": [],
   "source": []
  },
  {
   "cell_type": "code",
   "execution_count": null,
   "metadata": {},
   "outputs": [],
   "source": [
    "o2_optimizer_settings = dict(num_candidates = 25, max_bootstrapped_demos = 1, max_labeled_demos = 2, metric_threshold = None, init_temperature = 0.5, task_model = None, num_threads = 16,max_errors = 10, prompt_model=llama_3_1_70b_instruct_turbo_deepinfra, teacher_settings=dict(lm=llama_3_1_70b_instruct_turbo_deepinfra), auto=None)\n",
    "\n",
    "o2_compiler_settings = dict(num_trials = 50, minibatch = True, minibatch_size = 25, minibatch_full_eval_steps = 10, program_aware_proposer=True, data_aware_proposer=True, view_data_batch_size=10, tip_aware_proposer=True, fewshot_aware_proposer=True, requires_permission_to_run=False)"
   ]
  },
  {
   "cell_type": "code",
   "execution_count": null,
   "metadata": {},
   "outputs": [],
   "source": [
    "assert False, \"already finished and optimizer steps are not cached!\"\n",
    "\n",
    "BASE_PATH = \"./MalwareExtractor/FS-O2\"\n",
    "# mlflow.autolog()\n",
    "# mlflow.set_experiment(BASE_PATH)\n",
    "\n",
    "to_do = [\n",
    "    (\"llama_3_2_1b_instruct\", llama_3_2_1b_instruct_deepinfra),\n",
    "    (\"llama_3_2_3b_instruct\", llama_3_2_3b_instruct_deepinfra),\n",
    "    (\"llama_3_1_8b_instruct\", llama_3_1_8b_instruct_deepinfra),\n",
    "    (\"llama_3_1_70b_instruct\", llama_3_1_70b_instruct_turbo_deepinfra),\n",
    "\n",
    "    (\"qwen_2_5_7b_instruct\", qwen_2_5_7b_instruct_deepinfra),\n",
    "    (\"qwen_2_5_72b_instruct\", qwen_2_5_72b_instruct_deepinfra),\n",
    "]\n",
    "\n",
    "for llm_id, llm in to_do: \n",
    "    default_program = dspy.Predict(MalwareExtractorSignature)\n",
    "\n",
    "    o2_optimizer = MIPROv2(metric=metric, **o2_optimizer_settings)\n",
    "\n",
    "    with dspy.settings.context(lm=llm):\n",
    "        optimized_program = o2_optimizer.compile(student=default_program, trainset=trainset, valset=devset, **o2_compiler_settings)\n",
    "\n",
    "    # store program (cloudpickle)\n",
    "    optimized_program.save(f\"{BASE_PATH}/{llm_id}\", save_program=True)"
   ]
  },
  {
   "cell_type": "code",
   "execution_count": null,
   "metadata": {},
   "outputs": [],
   "source": [
    "assert False, \"already finished and optimizer steps are not cached!\"\n",
    "\n",
    "BASE_PATH = \"./MalwareExtractor/FS-O2\"\n",
    "# mlflow.autolog()\n",
    "# mlflow.set_experiment(BASE_PATH)\n",
    "\n",
    "to_do = [\n",
    "    (\"qwen_2_5_1p5b_instruct\", qwen_2_5_1p5b_instruct_vllm)\n",
    "]\n",
    "\n",
    "for llm_id, llm in to_do: \n",
    "    default_program = dspy.Predict(MalwareExtractorSignature)\n",
    "\n",
    "    o2_optimizer = MIPROv2(metric=metric, **o2_optimizer_settings)\n",
    "\n",
    "    with dspy.settings.context(lm=llm):\n",
    "        optimized_program = o2_optimizer.compile(student=default_program, trainset=trainset, valset=devset, **o2_compiler_settings)\n",
    "\n",
    "    # store program (cloudpickle)\n",
    "    optimized_program.save(f\"{BASE_PATH}/{llm_id}\", save_program=True)"
   ]
  },
  {
   "cell_type": "code",
   "execution_count": null,
   "metadata": {},
   "outputs": [],
   "source": [
    "assert False, \"already finished and optimizer steps are not cached!\"\n",
    "\n",
    "BASE_PATH = \"./MalwareExtractor/FS-O2\"\n",
    "\n",
    "to_do = [\n",
    "    (\"qwen_2_5_3b_instruct\", qwen_2_5_3b_instruct_vllm)\n",
    "]\n",
    "\n",
    "for llm_id, llm in to_do: \n",
    "    default_program = dspy.Predict(MalwareExtractorSignature)\n",
    "\n",
    "    o2_optimizer = MIPROv2(metric=metric, **o2_optimizer_settings)\n",
    "\n",
    "    with dspy.settings.context(lm=llm):\n",
    "        optimized_program = o2_optimizer.compile(student=default_program, trainset=trainset, valset=devset, **o2_compiler_settings)\n",
    "\n",
    "    # store program (cloudpickle)\n",
    "    optimized_program.save(f\"{BASE_PATH}/{llm_id}\", save_program=True)"
   ]
  },
  {
   "cell_type": "code",
   "execution_count": null,
   "metadata": {},
   "outputs": [],
   "source": []
  },
  {
   "cell_type": "code",
   "execution_count": null,
   "metadata": {},
   "outputs": [],
   "source": []
  },
  {
   "cell_type": "markdown",
   "metadata": {},
   "source": [
    "# TOTAL EVALUATION"
   ]
  },
  {
   "cell_type": "code",
   "execution_count": null,
   "metadata": {},
   "outputs": [],
   "source": [
    "assert False, \"DONE\"\n",
    "\n",
    "BASE_PATH = \"./MalwareExtractor/Baseline\"\n",
    "mlflow.autolog()\n",
    "mlflow.set_experiment(BASE_PATH)\n",
    "\n",
    "to_do = [\n",
    "    (\"llama_3_2_1b_instruct\", llama_3_2_1b_instruct_deepinfra),\n",
    "    (\"llama_3_2_3b_instruct\", llama_3_2_3b_instruct_deepinfra),\n",
    "    (\"llama_3_1_8b_instruct\", llama_3_1_8b_instruct_deepinfra),\n",
    "    (\"llama_3_1_70b_instruct\", llama_3_1_70b_instruct_turbo_deepinfra),\n",
    "    (\"qwen_2_5_7b_instruct\", qwen_2_5_7b_instruct_deepinfra),\n",
    "    (\"qwen_2_5_72b_instruct\", qwen_2_5_72b_instruct_deepinfra),\n",
    "]\n",
    "\n",
    "for llm_id, llm in to_do: \n",
    "    program = dspy.Predict(MalwareExtractorSignature)\n",
    "    save_and_evaluate(program=program, llm=llm, llm_id=llm_id, base_path=BASE_PATH, valset=devset)"
   ]
  },
  {
   "cell_type": "code",
   "execution_count": null,
   "metadata": {},
   "outputs": [],
   "source": [
    "assert False, \"DONE\"\n",
    "\n",
    "BASE_PATH = \"./MalwareExtractor/Baseline\"\n",
    "mlflow.autolog()\n",
    "mlflow.set_experiment(BASE_PATH)\n",
    "\n",
    "\n",
    "to_do = [\n",
    "    (\"qwen_2_5_1p5b_instruct\", qwen_2_5_1p5b_instruct_vllm)\n",
    "]\n",
    "\n",
    "\n",
    "for llm_id, llm in to_do: \n",
    "    program = dspy.Predict(MalwareExtractorSignature)\n",
    "    save_and_evaluate(program=program, llm=llm, llm_id=llm_id, base_path=BASE_PATH, valset=devset)"
   ]
  },
  {
   "cell_type": "code",
   "execution_count": null,
   "metadata": {},
   "outputs": [],
   "source": [
    "assert False, \"DONE\"\n",
    "\n",
    "BASE_PATH = \"./MalwareExtractor/Baseline\"\n",
    "mlflow.autolog()\n",
    "mlflow.set_experiment(BASE_PATH)\n",
    "\n",
    "to_do = [\n",
    "    (\"qwen_2_5_3b_instruct\", qwen_2_5_3b_instruct_vllm)\n",
    "]\n",
    "\n",
    "BASE_PATH = \"./MalwareExtractor/Baseline\"\n",
    "\n",
    "for llm_id, llm in to_do: \n",
    "    program = dspy.Predict(MalwareExtractorSignature)\n",
    "    save_and_evaluate(program=program, llm=llm, llm_id=llm_id, base_path=BASE_PATH, valset=devset)"
   ]
  },
  {
   "cell_type": "markdown",
   "metadata": {},
   "source": [
    "## ZS Evaluation"
   ]
  },
  {
   "cell_type": "code",
   "execution_count": null,
   "metadata": {},
   "outputs": [],
   "source": [
    "assert False, \"DONE\"\n",
    "BASE_PATH = \"./MalwareExtractor/ZERO-O1\"\n",
    "mlflow.autolog()\n",
    "mlflow.set_experiment(BASE_PATH)\n",
    "\n",
    "to_do = [\n",
    "    (\"llama_3_2_1b_instruct\", llama_3_2_1b_instruct_deepinfra),\n",
    "    (\"llama_3_2_3b_instruct\", llama_3_2_3b_instruct_deepinfra),\n",
    "    (\"llama_3_1_8b_instruct\", llama_3_1_8b_instruct_deepinfra),\n",
    "    (\"llama_3_1_70b_instruct\", llama_3_1_70b_instruct_turbo_deepinfra),\n",
    "    (\"qwen_2_5_7b_instruct\", qwen_2_5_7b_instruct_deepinfra),\n",
    "    (\"qwen_2_5_72b_instruct\", qwen_2_5_72b_instruct_deepinfra),\n",
    "]\n",
    "\n",
    "for llm_id, llm in to_do: \n",
    "    program = dspy.load(f\"{BASE_PATH}/{llm_id}\")\n",
    "    save_and_evaluate(program=program, llm=llm, llm_id=llm_id, base_path=BASE_PATH, valset=devset)"
   ]
  },
  {
   "cell_type": "code",
   "execution_count": null,
   "metadata": {},
   "outputs": [],
   "source": [
    "assert False, \"DONE\"\n",
    "\n",
    "BASE_PATH = \"./MalwareExtractor/ZERO-O1\"\n",
    "mlflow.autolog()\n",
    "mlflow.set_experiment(BASE_PATH)\n",
    "\n",
    "to_do = [\n",
    "    (\"qwen_2_5_1p5b_instruct\", qwen_2_5_1p5b_instruct_vllm)\n",
    "]\n",
    "\n",
    "\n",
    "for llm_id, llm in to_do: \n",
    "    program = dspy.load(f\"{BASE_PATH}/{llm_id}\")\n",
    "    save_and_evaluate(program=program, llm=llm, llm_id=llm_id, base_path=BASE_PATH, valset=devset)"
   ]
  },
  {
   "cell_type": "code",
   "execution_count": null,
   "metadata": {},
   "outputs": [],
   "source": [
    "assert False, \"DONE\"\n",
    "\n",
    "BASE_PATH = \"./MalwareExtractor/ZERO-O1\"\n",
    "mlflow.autolog()\n",
    "mlflow.set_experiment(BASE_PATH)\n",
    "\n",
    "to_do = [\n",
    "    (\"qwen_2_5_3b_instruct\", qwen_2_5_3b_instruct_vllm)\n",
    "]\n",
    "\n",
    "for llm_id, llm in to_do: \n",
    "    program = dspy.load(f\"{BASE_PATH}/{llm_id}\")\n",
    "    save_and_evaluate(program=program, llm=llm, llm_id=llm_id, base_path=BASE_PATH, valset=devset)"
   ]
  },
  {
   "cell_type": "code",
   "execution_count": null,
   "metadata": {},
   "outputs": [],
   "source": []
  },
  {
   "cell_type": "code",
   "execution_count": null,
   "metadata": {},
   "outputs": [],
   "source": [
    "assert False, \"DONE\"\n",
    "\n",
    "BASE_PATH = \"./MalwareExtractor/ZERO-O2\"\n",
    "mlflow.autolog()\n",
    "mlflow.set_experiment(BASE_PATH)\n",
    "\n",
    "to_do = [\n",
    "    (\"llama_3_2_1b_instruct\", llama_3_2_1b_instruct_deepinfra),\n",
    "    (\"llama_3_2_3b_instruct\", llama_3_2_3b_instruct_deepinfra),\n",
    "    (\"llama_3_1_8b_instruct\", llama_3_1_8b_instruct_deepinfra),\n",
    "    (\"llama_3_1_70b_instruct\", llama_3_1_70b_instruct_turbo_deepinfra),\n",
    "    (\"qwen_2_5_7b_instruct\", qwen_2_5_7b_instruct_deepinfra),\n",
    "    (\"qwen_2_5_72b_instruct\", qwen_2_5_72b_instruct_deepinfra),\n",
    "]\n",
    "\n",
    "for llm_id, llm in to_do: \n",
    "    program = dspy.load(f\"{BASE_PATH}/{llm_id}\")\n",
    "    save_and_evaluate(program=program, llm=llm, llm_id=llm_id, base_path=BASE_PATH, valset=devset)"
   ]
  },
  {
   "cell_type": "code",
   "execution_count": null,
   "metadata": {},
   "outputs": [],
   "source": [
    "assert False, \"DONE\"\n",
    "\n",
    "BASE_PATH = \"./MalwareExtractor/ZERO-O2\"\n",
    "mlflow.autolog()\n",
    "mlflow.set_experiment(BASE_PATH)\n",
    "\n",
    "to_do = [\n",
    "    (\"qwen_2_5_1p5b_instruct\", qwen_2_5_1p5b_instruct_vllm)\n",
    "]\n",
    "\n",
    "\n",
    "for llm_id, llm in to_do: \n",
    "    program = dspy.load(f\"{BASE_PATH}/{llm_id}\")\n",
    "    save_and_evaluate(program=program, llm=llm, llm_id=llm_id, base_path=BASE_PATH, valset=devset)"
   ]
  },
  {
   "cell_type": "code",
   "execution_count": null,
   "metadata": {},
   "outputs": [],
   "source": [
    "assert False, \"DONE\"\n",
    "\n",
    "BASE_PATH = \"./MalwareExtractor/ZERO-O2\"\n",
    "mlflow.autolog()\n",
    "mlflow.set_experiment(BASE_PATH)\n",
    "\n",
    "to_do = [\n",
    "    (\"qwen_2_5_3b_instruct\", qwen_2_5_3b_instruct_vllm)\n",
    "]\n",
    "\n",
    "\n",
    "for llm_id, llm in to_do: \n",
    "    program = dspy.load(f\"{BASE_PATH}/{llm_id}\")\n",
    "    save_and_evaluate(program=program, llm=llm, llm_id=llm_id, base_path=BASE_PATH, valset=devset)"
   ]
  },
  {
   "cell_type": "markdown",
   "metadata": {},
   "source": [
    "## FEW SHOT Evaluation"
   ]
  },
  {
   "cell_type": "code",
   "execution_count": null,
   "metadata": {},
   "outputs": [],
   "source": [
    "assert False, \"DONE\"\n",
    "\n",
    "BASE_PATH = \"./MalwareExtractor/FS-O1\"\n",
    "mlflow.autolog()\n",
    "mlflow.set_experiment(BASE_PATH)\n",
    "\n",
    "to_do = [\n",
    "    (\"llama_3_2_1b_instruct\", llama_3_2_1b_instruct_deepinfra),\n",
    "    (\"llama_3_2_3b_instruct\", llama_3_2_3b_instruct_deepinfra),\n",
    "    (\"llama_3_1_8b_instruct\", llama_3_1_8b_instruct_deepinfra),\n",
    "    (\"llama_3_1_70b_instruct\", llama_3_1_70b_instruct_turbo_deepinfra),\n",
    "    (\"qwen_2_5_7b_instruct\", qwen_2_5_7b_instruct_deepinfra),\n",
    "    (\"qwen_2_5_72b_instruct\", qwen_2_5_72b_instruct_deepinfra),\n",
    "]\n",
    "\n",
    "for llm_id, llm in to_do: \n",
    "    program = dspy.load(f\"{BASE_PATH}/{llm_id}\")\n",
    "    save_and_evaluate(program=program, llm=llm, llm_id=llm_id, base_path=BASE_PATH, valset=devset)"
   ]
  },
  {
   "cell_type": "code",
   "execution_count": null,
   "metadata": {},
   "outputs": [],
   "source": [
    "assert False, \"DONE\"\n",
    "\n",
    "BASE_PATH = \"./MalwareExtractor/FS-O1\"\n",
    "mlflow.autolog()\n",
    "mlflow.set_experiment(BASE_PATH)\n",
    "\n",
    "to_do = [\n",
    "    (\"qwen_2_5_1p5b_instruct\", qwen_2_5_1p5b_instruct_vllm)\n",
    "]\n",
    "\n",
    "\n",
    "for llm_id, llm in to_do: \n",
    "    program = dspy.load(f\"{BASE_PATH}/{llm_id}\")\n",
    "    save_and_evaluate(program=program, llm=llm, llm_id=llm_id, base_path=BASE_PATH, valset=devset)"
   ]
  },
  {
   "cell_type": "code",
   "execution_count": null,
   "metadata": {},
   "outputs": [],
   "source": [
    "assert False, \"DONE\"\n",
    "\n",
    "BASE_PATH = \"./MalwareExtractor/FS-O1\"\n",
    "mlflow.autolog()\n",
    "mlflow.set_experiment(BASE_PATH)\n",
    "\n",
    "to_do = [\n",
    "    (\"qwen_2_5_3b_instruct\", qwen_2_5_3b_instruct_vllm)\n",
    "]\n",
    "\n",
    "\n",
    "for llm_id, llm in to_do: \n",
    "    program = dspy.load(f\"{BASE_PATH}/{llm_id}\")\n",
    "    save_and_evaluate(program=program, llm=llm, llm_id=llm_id, base_path=BASE_PATH, valset=devset)"
   ]
  },
  {
   "cell_type": "code",
   "execution_count": null,
   "metadata": {},
   "outputs": [],
   "source": [
    "assert False, \"DONE\"\n",
    "\n",
    "BASE_PATH = \"./MalwareExtractor/FS-O2\"\n",
    "mlflow.autolog()\n",
    "mlflow.set_experiment(BASE_PATH)\n",
    "\n",
    "to_do = [\n",
    "    (\"llama_3_2_1b_instruct\", llama_3_2_1b_instruct_deepinfra),\n",
    "    (\"llama_3_2_3b_instruct\", llama_3_2_3b_instruct_deepinfra),\n",
    "    (\"llama_3_1_8b_instruct\", llama_3_1_8b_instruct_deepinfra),\n",
    "    (\"llama_3_1_70b_instruct\", llama_3_1_70b_instruct_turbo_deepinfra),\n",
    "    (\"qwen_2_5_7b_instruct\", qwen_2_5_7b_instruct_deepinfra),\n",
    "    (\"qwen_2_5_72b_instruct\", qwen_2_5_72b_instruct_deepinfra),\n",
    "]\n",
    "\n",
    "for llm_id, llm in to_do: \n",
    "    program = dspy.load(f\"{BASE_PATH}/{llm_id}\")\n",
    "    save_and_evaluate(program=program, llm=llm, llm_id=llm_id, base_path=BASE_PATH, valset=devset)"
   ]
  },
  {
   "cell_type": "code",
   "execution_count": null,
   "metadata": {},
   "outputs": [],
   "source": [
    "assert False, \"DONE\"\n",
    "BASE_PATH = \"./MalwareExtractor/FS-O2\"\n",
    "mlflow.autolog()\n",
    "mlflow.set_experiment(BASE_PATH)\n",
    "\n",
    "to_do = [\n",
    "    (\"qwen_2_5_1p5b_instruct\", qwen_2_5_1p5b_instruct_vllm)\n",
    "]\n",
    "\n",
    "\n",
    "for llm_id, llm in to_do: \n",
    "    program = dspy.load(f\"{BASE_PATH}/{llm_id}\")\n",
    "    save_and_evaluate(program=program, llm=llm, llm_id=llm_id, base_path=BASE_PATH, valset=devset)"
   ]
  },
  {
   "cell_type": "code",
   "execution_count": null,
   "metadata": {},
   "outputs": [],
   "source": [
    "assert False, \"DONE\"\n",
    "BASE_PATH = \"./MalwareExtractor/FS-O2\"\n",
    "mlflow.autolog()\n",
    "mlflow.set_experiment(BASE_PATH)\n",
    "\n",
    "to_do = [\n",
    "    (\"qwen_2_5_3b_instruct\", qwen_2_5_3b_instruct_vllm)\n",
    "]\n",
    "\n",
    "\n",
    "for llm_id, llm in to_do: \n",
    "    program = dspy.load(f\"{BASE_PATH}/{llm_id}\")\n",
    "    save_and_evaluate(program=program, llm=llm, llm_id=llm_id, base_path=BASE_PATH, valset=devset)"
   ]
  },
  {
   "cell_type": "code",
   "execution_count": null,
   "metadata": {},
   "outputs": [],
   "source": []
  }
 ],
 "metadata": {
  "kernelspec": {
   "display_name": "venv",
   "language": "python",
   "name": "python3"
  },
  "language_info": {
   "codemirror_mode": {
    "name": "ipython",
    "version": 3
   },
   "file_extension": ".py",
   "mimetype": "text/x-python",
   "name": "python",
   "nbconvert_exporter": "python",
   "pygments_lexer": "ipython3",
   "version": "3.11.9"
  }
 },
 "nbformat": 4,
 "nbformat_minor": 2
}
