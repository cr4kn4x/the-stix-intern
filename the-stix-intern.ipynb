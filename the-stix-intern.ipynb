{
 "cells": [
  {
   "cell_type": "code",
   "execution_count": 4,
   "id": "84981b30",
   "metadata": {},
   "outputs": [],
   "source": [
    "import typing\n",
    "import dspy\n",
    "import os \n",
    "import stix2\n",
    "import dotenv\n",
    "from Modules.BasicHtmlToTextParser import BasicHtmlToTextParser\n",
    "from ThreatReportScraper.Scraper import Scraper\n",
    "from pydantic import Field, BaseModel\n",
    "\n",
    "_ = dotenv.load_dotenv(\"./.env\")"
   ]
  },
  {
   "cell_type": "code",
   "execution_count": null,
   "id": "5b5349f5",
   "metadata": {},
   "outputs": [],
   "source": []
  },
  {
   "cell_type": "code",
   "execution_count": null,
   "id": "9a32592c",
   "metadata": {},
   "outputs": [],
   "source": []
  },
  {
   "cell_type": "code",
   "execution_count": 6,
   "id": "0887982c",
   "metadata": {},
   "outputs": [],
   "source": [
    "llm_literal = typing.Literal[\"llama_3_2_1b_instruct\", \"llama_3_2_3b_instruct\", \"llama_3_1_8b_instruct\", \"llama_3_1_70b_instruct\", \"qwen_2_5_7b_instruct\", \"qwen_2_5_72b_instruct\"]\n",
    "optimization_literal = typing.Literal[\"FS-O1\", \"FS-O2\", \"ZERO-O1\", \"ZERO-O2\"]\n",
    "\n",
    "\n",
    "def get_deepinfra_llm(llm: llm_literal, temperature: float = 0.1, max_tokens: int = 1024, cache=False, cache_in_memory=False) -> dspy.LM: \n",
    "    base_args = dict(api_key=os.environ.get(\"DEEPINFRA_API_KEY\"), base_url=\"https://api.deepinfra.com/v1/openai\", temperature=temperature, max_tokens=max_tokens, cache=cache, cache_in_memory=cache_in_memory)\n",
    "\n",
    "    deepinfra_llms = {\n",
    "        \"llama_3_2_1b_instruct\": dspy.LM(model=\"openai/meta-llama/Llama-3.2-1B-Instruct\", **base_args),\n",
    "        \"llama_3_2_3b_instruct\": dspy.LM(model=\"openai/meta-llama/Llama-3.2-3B-Instruct\", **base_args), \n",
    "        \"llama_3_1_8b_instruct\": dspy.LM(model=\"openai/meta-llama/Meta-Llama-3.1-8B-Instruct\", **base_args),\n",
    "        \"llama_3_1_70b_instruct\": dspy.LM(model=\"openai/meta-llama/Meta-Llama-3.1-70B-Instruct-Turbo\", **base_args),\n",
    "        \"qwen_2_5_7b_instruct\": dspy.LM(model=\"openai/Qwen/Qwen2.5-7B-Instruct\", **base_args), \n",
    "        \"qwen_2_5_72b_instruct\": dspy.LM(model=\"openai/Qwen/Qwen2.5-72B-Instruct\", **base_args),\n",
    "    }\n",
    "\n",
    "    return deepinfra_llms[llm]\n",
    "\n",
    "\n",
    "def load_dspy_module(module: typing.Literal[\"MalwareExtractor\", \"ThreatActorExtractor\", \"TargetsExtractor\", \"AttackPatternExtractor\"], optimization: optimization_literal, llm: llm_literal, base_path=\"./Modules\"):\n",
    "    program = dspy.load(f\"{base_path}/{module}/{optimization}/{llm}\")\n",
    "    return program"
   ]
  },
  {
   "cell_type": "code",
   "execution_count": null,
   "id": "a57688fe",
   "metadata": {},
   "outputs": [],
   "source": []
  },
  {
   "cell_type": "code",
   "execution_count": null,
   "id": "17340eb5",
   "metadata": {},
   "outputs": [],
   "source": []
  },
  {
   "cell_type": "code",
   "execution_count": null,
   "id": "9eb1fb2e",
   "metadata": {},
   "outputs": [],
   "source": []
  },
  {
   "cell_type": "code",
   "execution_count": 7,
   "id": "2169e786",
   "metadata": {},
   "outputs": [],
   "source": [
    "malware_extractor_llm_id: llm_literal = \"llama_3_1_70b_instruct\"\n",
    "threat_actor_extractor_llm_id: llm_literal = \"llama_3_1_70b_instruct\"\n",
    "attack_pattern_extractor_llm_id: llm_literal = \"llama_3_1_70b_instruct\"\n",
    "targets_extractor_llm_id: llm_literal = \"llama_3_1_70b_instruct\"\n",
    "\n",
    "\n",
    "malware_extractor = load_dspy_module(\"MalwareExtractor\", optimization=\"FS-O1\", llm=malware_extractor_llm_id)\n",
    "threat_actor_extractor = load_dspy_module(\"ThreatActorExtractor\", optimization=\"FS-O1\", llm=threat_actor_extractor_llm_id)\n",
    "attack_pattern_extractor = load_dspy_module(\"AttackPatternExtractor\", optimization=\"FS-O1\", llm=attack_pattern_extractor_llm_id)\n",
    "targets_extractor = load_dspy_module(\"TargetsExtractor\", optimization=\"FS-O1\", llm=targets_extractor_llm_id)"
   ]
  },
  {
   "cell_type": "code",
   "execution_count": null,
   "id": "9e15ed4a",
   "metadata": {},
   "outputs": [],
   "source": []
  },
  {
   "cell_type": "code",
   "execution_count": null,
   "id": "7f7b54da",
   "metadata": {},
   "outputs": [],
   "source": []
  },
  {
   "cell_type": "code",
   "execution_count": 8,
   "id": "cb35df09",
   "metadata": {},
   "outputs": [],
   "source": [
    "scraper = Scraper(\"./ThreatReportScraper/firefox_profile/\")\n",
    "htmlParser = BasicHtmlToTextParser()"
   ]
  },
  {
   "cell_type": "code",
   "execution_count": null,
   "id": "0112a77c",
   "metadata": {},
   "outputs": [],
   "source": []
  },
  {
   "cell_type": "code",
   "execution_count": null,
   "id": "2c085019",
   "metadata": {},
   "outputs": [],
   "source": [
    "threat_report_html = scraper.scrape(\"https://social.cyware.com/news/xloader-a-deep-insight-into-the-android-malwares-various-campaigns-462d6020\", default_wait_for_page_load=1) # 120\n",
    "\n",
    "threat_report_txt = htmlParser.forward(threat_report_html=threat_report_html)"
   ]
  },
  {
   "cell_type": "code",
   "execution_count": 11,
   "id": "0e1f35d8",
   "metadata": {},
   "outputs": [],
   "source": [
    "class AttackPatternTriple(BaseModel):\n",
    "    source: str = Field()\n",
    "    source_type: typing.Literal[\"malware\", \"threat_actor\", \"campaign\", \"course_of_action\", \"indicator\", \"intrusion_set\"] = Field()\n",
    "    relationship: typing.Literal[\"uses\", \"mitigates\", \"indicates\"] = Field()\n",
    "    target_attack_pattern: str = Field()\n",
    "    target_type: typing.Literal[\"attack_pattern\"] = Field()\n",
    "\n",
    "class TargetTriple(BaseModel):\n",
    "    source: str = Field()\n",
    "    source_type: typing.Literal[\"attack_pattern\", \"campaign\", \"intrusion_set\", \"malware\", \"threat_actor\"] = Field()\n",
    "    relationship: typing.Literal[\"targets\"] = Field()\n",
    "    target: str = Field()\n",
    "    target_type: typing.Literal[\"identity\", \"location\", \"vulnerability\", \"infrastructure\", \"tool\"] = Field()\n",
    "\n",
    "\n",
    "    \n",
    "\n",
    "def enforce_stix_attack_patterns(attack_pattern_triples: typing.List[AttackPatternTriple]) -> typing.List[AttackPatternTriple]:\n",
    "    filtered_triples = []\n",
    "    \n",
    "    for triple in attack_pattern_triples:\n",
    "        if triple.source_type in [\"malware\", \"threat_actor\", \"campaign\", \"intrusion_set\"]:\n",
    "            if triple.relationship == \"uses\":\n",
    "                filtered_triples.append(triple)\n",
    "        \n",
    "        elif triple.source_type == \"course_of_action\" and triple.relationship == \"mitigates\":\n",
    "            filtered_triples.append(triple)\n",
    "        \n",
    "        elif triple.source_type == \"indicator\" and triple.relationship == \"indicates\":\n",
    "            filtered_triples.append(triple)\n",
    "    \n",
    "    return filtered_triples\n",
    "\n",
    "\n",
    "\n",
    "def enforce_stix_targets(target_triples: typing.List[TargetTriple]) -> typing.List[TargetTriple]:\n",
    "    filtered_triples = []\n",
    "    \n",
    "    for triple in target_triples:\n",
    "        if triple.source_type == \"attack_pattern\":\n",
    "            if (triple.relationship == \"targets\" and \n",
    "                triple.target_type in [\"identity\", \"location\", \"vulnerability\", \"tool\"]):\n",
    "                filtered_triples.append(triple)\n",
    "                \n",
    "        elif triple.source_type == \"campaign\":\n",
    "            if (triple.relationship == \"targets\" and \n",
    "                triple.target_type in [\"identity\", \"location\", \"vulnerability\"]):\n",
    "                filtered_triples.append(triple)\n",
    "                \n",
    "        elif triple.source_type == \"intrusion_set\":\n",
    "            if (triple.relationship == \"targets\" and \n",
    "                triple.target_type in [\"identity\", \"location\", \"vulnerability\"]):\n",
    "                filtered_triples.append(triple)\n",
    "                \n",
    "        elif triple.source_type == \"malware\":\n",
    "            if (triple.relationship == \"targets\" and \n",
    "                triple.target_type in [\"identity\", \"infrastructure\", \"vulnerability\", \"location\"]):\n",
    "                filtered_triples.append(triple)\n",
    "                \n",
    "        elif triple.source_type == \"threat_actor\":\n",
    "            if (triple.relationship == \"targets\" and \n",
    "                triple.target_type in [\"identity\", \"location\", \"vulnerability\"]):\n",
    "                filtered_triples.append(triple)\n",
    "    \n",
    "    return filtered_triples"
   ]
  },
  {
   "cell_type": "code",
   "execution_count": null,
   "id": "2c231849",
   "metadata": {},
   "outputs": [],
   "source": []
  },
  {
   "cell_type": "code",
   "execution_count": 12,
   "id": "fb0c8094",
   "metadata": {},
   "outputs": [],
   "source": [
    "stix_malwares, stix_threat_actors, stix_relationships = dict(), dict(), []\n",
    "stix_attack_patterns, stix_targets = [], []\n",
    "\n",
    "with dspy.settings.context(lm=get_deepinfra_llm(malware_extractor_llm_id, cache=True, cache_in_memory=True)): \n",
    "    malware_names = malware_extractor.forward(threat_report=threat_report_txt).malware_names\n",
    "\n",
    "    malware_names = [malware_name.lower() for malware_name in malware_names]\n",
    "    malware_names = list(set(malware_names))\n",
    "\n",
    "    for malware_name in malware_names: \n",
    "        stix_malwares[malware_name] = stix2.Malware(name=malware_name, is_family=False)\n",
    "\n",
    "\n",
    "with dspy.settings.context(lm=get_deepinfra_llm(threat_actor_extractor_llm_id, cache=True, cache_in_memory=True)):\n",
    "    threat_actors = threat_actor_extractor(threat_report=threat_report_txt).threat_actors\n",
    "\n",
    "    threat_actors = [threat_actor.lower() for threat_actor in threat_actors]\n",
    "    threat_actors = list(set(threat_actors))\n",
    "\n",
    "    for threat_actor in threat_actors: \n",
    "        stix_threat_actors[threat_actor] = stix2.ThreatActor(name=threat_actor)"
   ]
  },
  {
   "cell_type": "code",
   "execution_count": null,
   "id": "9db2b353",
   "metadata": {},
   "outputs": [],
   "source": []
  },
  {
   "cell_type": "code",
   "execution_count": 13,
   "id": "2bc59ce7",
   "metadata": {},
   "outputs": [],
   "source": [
    "with dspy.settings.context(lm=get_deepinfra_llm(attack_pattern_extractor_llm_id, cache=True, cache_in_memory=True)):\n",
    "    attack_patterns = attack_pattern_extractor(threat_report=threat_report_txt, mentioned_malwares=list(set(malware_names)), mentioned_threat_actors=threat_actors).attack_pattern_triples\n",
    "    \n",
    "    attack_patterns = enforce_stix_attack_patterns(attack_patterns)"
   ]
  },
  {
   "cell_type": "code",
   "execution_count": null,
   "id": "f231bf00",
   "metadata": {},
   "outputs": [],
   "source": []
  },
  {
   "cell_type": "code",
   "execution_count": 14,
   "id": "d02b6944",
   "metadata": {},
   "outputs": [],
   "source": [
    "# attack_patterns = deduplicate_attack_patterns(attack_patterns)\n",
    "\n",
    "for attack_pattern_triple in attack_patterns:\n",
    "    source_ref = attack_pattern_triple.source.lower()\n",
    "    source_type = attack_pattern_triple.source_type\n",
    "\n",
    "    # \n",
    "    if source_type == \"campaign\":\n",
    "        continue\n",
    "    elif source_type == \"course_of_action\":\n",
    "        continue\n",
    "    elif source_type == \"indicator\":\n",
    "        continue\n",
    "    elif source_type == \"intrusion_set\":\n",
    "        continue\n",
    "    elif source_type == \"malware\":\n",
    "        if source_ref in malware_names: \n",
    "            source_ref = stix_malwares[source_ref]\n",
    "        else: \n",
    "            continue\n",
    "    elif source_type == \"threat_actor\":\n",
    "        if source_ref in threat_actors: \n",
    "            source_ref = stix_threat_actors[source_ref]\n",
    "        else:\n",
    "            continue\n",
    "    else:\n",
    "        raise Exception(\"Unhandled literal value\")\n",
    "\n",
    "\n",
    "    attack_pattern = stix2.AttackPattern(name=attack_pattern_triple.target_attack_pattern)\n",
    "    rel = stix2.Relationship(source_ref, attack_pattern_triple.relationship, attack_pattern)\n",
    "\n",
    "    stix_attack_patterns.append(attack_pattern)\n",
    "    stix_relationships.append(rel)"
   ]
  },
  {
   "cell_type": "code",
   "execution_count": null,
   "id": "82384f85",
   "metadata": {},
   "outputs": [],
   "source": []
  },
  {
   "cell_type": "code",
   "execution_count": 15,
   "id": "d079b486",
   "metadata": {},
   "outputs": [],
   "source": [
    "with dspy.settings.context(lm=get_deepinfra_llm(targets_extractor_llm_id, cache=True, cache_in_memory=True)):\n",
    "    targets = targets_extractor(threat_report=threat_report_txt, mentioned_malwares=malware_names, mentioned_threat_actors=threat_actors).targets_triples\n",
    "    targets = enforce_stix_targets(targets)"
   ]
  },
  {
   "cell_type": "code",
   "execution_count": 16,
   "id": "35b7fb67",
   "metadata": {},
   "outputs": [],
   "source": [
    "class TargetTriple(BaseModel):\n",
    "    source: str = Field()\n",
    "    source_type: typing.Literal[\"attack_pattern\", \"campaign\", \"intrusion_set\", \"malware\", \"threat_actor\"] = Field()\n",
    "    relationship: typing.Literal[\"targets\"] = Field()\n",
    "    target: str = Field()\n",
    "    target_type: typing.Literal[\"identity\", \"location\", \"vulnerability\", \"infrastructure\", \"tool\"] = Field()\n",
    "\n",
    "\n",
    "\n",
    "for targets_triple in targets:\n",
    "\n",
    "    # 1. handle the source type \n",
    "    source_ref = targets_triple.source.lower()\n",
    "    source_type = targets_triple.source_type\n",
    "\n",
    "    if source_type == \"campaign\":\n",
    "        continue\n",
    "    elif source_type == \"attack_pattern\":\n",
    "        continue\n",
    "    elif source_type == \"intrusion_set\":\n",
    "        continue\n",
    "    elif source_type == \"malware\":\n",
    "        if source_ref in malware_names: \n",
    "            source_ref = stix_malwares[source_ref]\n",
    "        else: \n",
    "            continue\n",
    "    elif source_type == \"threat_actor\":\n",
    "        if source_ref in threat_actors: \n",
    "            source_ref = threat_actors[source_ref]\n",
    "        else:\n",
    "            continue\n",
    "    else: \n",
    "        raise Exception(\"Unhandled literal value\")\n",
    "    \n",
    "\n",
    "    # 2. handle the target type \n",
    "    target_type = targets_triple.target_type\n",
    "    target_ref = None\n",
    "\n",
    "    if target_type == \"identity\": \n",
    "        target_ref = stix2.Identity(name=targets_triple.target)\n",
    "    elif target_type == \"infrastructure\":\n",
    "        target_ref = stix2.Infrastructure(name=targets_triple.target)\n",
    "    elif target_type == \"location\":\n",
    "        target_ref = stix2.Location(region=targets_triple.target, name=targets_triple.target)\n",
    "    elif target_type == \"tool\":\n",
    "        target_ref = stix2.Tool(name=targets_triple.target)\n",
    "    elif target_type == \"vulnerability\":\n",
    "        target_ref = stix2.Vulnerability(name=targets_triple.target)\n",
    "    else: \n",
    "        raise Exception(\"Unhandled literal value\")\n",
    "\n",
    "\n",
    "    \n",
    "    rel = stix2.Relationship(source_ref, targets_triple.relationship, target_ref)\n",
    "    \n",
    "    stix_targets.append(target_ref)\n",
    "    stix_relationships.append(rel)"
   ]
  },
  {
   "cell_type": "code",
   "execution_count": null,
   "id": "8c5c5f01",
   "metadata": {},
   "outputs": [],
   "source": []
  },
  {
   "cell_type": "code",
   "execution_count": 17,
   "id": "2e45f005",
   "metadata": {},
   "outputs": [
    {
     "name": "stdout",
     "output_type": "stream",
     "text": [
      "{\"type\": \"bundle\", \"id\": \"bundle--3ff92c71-8b96-44c4-b106-91eda053923c\", \"objects\": [{\"type\": \"malware\", \"spec_version\": \"2.1\", \"id\": \"malware--c33c30ec-a813-4f4e-b572-df1c8aedc288\", \"created\": \"2025-05-13T14:33:02.460479Z\", \"modified\": \"2025-05-13T14:33:02.460479Z\", \"name\": \"xloader\", \"is_family\": false}, {\"type\": \"malware\", \"spec_version\": \"2.1\", \"id\": \"malware--5422e404-be9d-471e-aa5c-0c292cb618c9\", \"created\": \"2025-05-13T14:33:02.460479Z\", \"modified\": \"2025-05-13T14:33:02.460479Z\", \"name\": \"fakespy\", \"is_family\": false}, {\"type\": \"threat-actor\", \"spec_version\": \"2.1\", \"id\": \"threat-actor--e2ca0441-27d5-48d1-a7a8-082af939fe17\", \"created\": \"2025-05-13T14:33:02.468617Z\", \"modified\": \"2025-05-13T14:33:02.468617Z\", \"name\": \"yanbian gang\"}, {\"type\": \"attack-pattern\", \"spec_version\": \"2.1\", \"id\": \"attack-pattern--092648e9-528b-41e5-9e5a-1540c2a8c97e\", \"created\": \"2025-05-13T14:33:12.564598Z\", \"modified\": \"2025-05-13T14:33:12.564598Z\", \"name\": \"Domain Name System (DNS) spoofing to distribute infected Android apps\"}, {\"type\": \"attack-pattern\", \"spec_version\": \"2.1\", \"id\": \"attack-pattern--26c91975-3c48-44bd-9af9-303476f568a3\", \"created\": \"2025-05-13T14:33:12.564598Z\", \"modified\": \"2025-05-13T14:33:12.564598Z\", \"name\": \"collect device owners\\u2019 personal information and financial information\"}, {\"type\": \"attack-pattern\", \"spec_version\": \"2.1\", \"id\": \"attack-pattern--c10698f3-719e-4fc8-94da-2ad0212b3f3e\", \"created\": \"2025-05-13T14:33:12.564598Z\", \"modified\": \"2025-05-13T14:33:12.564598Z\", \"name\": \"posing as a security app for Android devices\"}, {\"type\": \"attack-pattern\", \"spec_version\": \"2.1\", \"id\": \"attack-pattern--78faffbf-57ef-40fb-9ddb-5c0e812206a3\", \"created\": \"2025-05-13T14:33:12.565598Z\", \"modified\": \"2025-05-13T14:33:12.565598Z\", \"name\": \"using a malicious iOS profile to affect iPhone and iPad devices\"}, {\"type\": \"attack-pattern\", \"spec_version\": \"2.1\", \"id\": \"attack-pattern--49b6fe0d-377b-4f96-a280-1e2c85d7bf47\", \"created\": \"2025-05-13T14:33:12.565598Z\", \"modified\": \"2025-05-13T14:33:12.565598Z\", \"name\": \"distributed via smishing\"}, {\"type\": \"attack-pattern\", \"spec_version\": \"2.1\", \"id\": \"attack-pattern--7d8ef7f1-0248-43c5-bd1c-d9b09904a951\", \"created\": \"2025-05-13T14:33:12.565598Z\", \"modified\": \"2025-05-13T14:33:12.565598Z\", \"name\": \"abusing Twitter profiles to hide its C&C server\"}, {\"type\": \"attack-pattern\", \"spec_version\": \"2.1\", \"id\": \"attack-pattern--f9c97816-0e7f-49d4-971a-f45cd34eaf8c\", \"created\": \"2025-05-13T14:33:12.566598Z\", \"modified\": \"2025-05-13T14:33:12.566598Z\", \"name\": \"posing as a pornography app for Android devices\"}, {\"type\": \"attack-pattern\", \"spec_version\": \"2.1\", \"id\": \"attack-pattern--dfd0208b-5722-41d0-846c-3050306cba0a\", \"created\": \"2025-05-13T14:33:12.566598Z\", \"modified\": \"2025-05-13T14:33:12.566598Z\", \"name\": \"abusing Instagram and Tumblr profiles to hide its C&C server\"}, {\"type\": \"attack-pattern\", \"spec_version\": \"2.1\", \"id\": \"attack-pattern--3b6c69e4-5e1a-435a-9d00-82879ce38ff9\", \"created\": \"2025-05-13T14:33:12.566598Z\", \"modified\": \"2025-05-13T14:33:12.566598Z\", \"name\": \"disguising malware as a legitimate app of a major Japanese home delivery service company\"}, {\"type\": \"location\", \"spec_version\": \"2.1\", \"id\": \"location--f08f38f1-6565-4de9-a7dc-9b4d07b03eb9\", \"created\": \"2025-05-13T14:33:14.886485Z\", \"modified\": \"2025-05-13T14:33:14.886485Z\", \"name\": \"Japan\", \"region\": \"Japan\"}, {\"type\": \"location\", \"spec_version\": \"2.1\", \"id\": \"location--1423210c-185d-4488-950f-515da4ba267d\", \"created\": \"2025-05-13T14:33:14.887484Z\", \"modified\": \"2025-05-13T14:33:14.887484Z\", \"name\": \"Korea\", \"region\": \"Korea\"}, {\"type\": \"location\", \"spec_version\": \"2.1\", \"id\": \"location--5f16f806-0371-4b99-97b8-5344328cf090\", \"created\": \"2025-05-13T14:33:14.887484Z\", \"modified\": \"2025-05-13T14:33:14.887484Z\", \"name\": \"China\", \"region\": \"China\"}, {\"type\": \"location\", \"spec_version\": \"2.1\", \"id\": \"location--1625fca1-c3a3-480f-8e06-ca110cdc632d\", \"created\": \"2025-05-13T14:33:14.887484Z\", \"modified\": \"2025-05-13T14:33:14.887484Z\", \"name\": \"Taiwan\", \"region\": \"Taiwan\"}, {\"type\": \"location\", \"spec_version\": \"2.1\", \"id\": \"location--4ccda3ac-ad59-4649-bb34-97766ed059f7\", \"created\": \"2025-05-13T14:33:14.888484Z\", \"modified\": \"2025-05-13T14:33:14.888484Z\", \"name\": \"Hong Kong\", \"region\": \"Hong Kong\"}, {\"type\": \"location\", \"spec_version\": \"2.1\", \"id\": \"location--b203a7ea-4571-4e02-b9f9-c464f7fc1d8f\", \"created\": \"2025-05-13T14:33:14.888484Z\", \"modified\": \"2025-05-13T14:33:14.888484Z\", \"name\": \"South Korea\", \"region\": \"South Korea\"}, {\"type\": \"relationship\", \"spec_version\": \"2.1\", \"id\": \"relationship--60ea5e0c-8765-4797-bc8c-5d8e11e2b873\", \"created\": \"2025-05-13T14:33:12.564598Z\", \"modified\": \"2025-05-13T14:33:12.564598Z\", \"relationship_type\": \"uses\", \"source_ref\": \"malware--c33c30ec-a813-4f4e-b572-df1c8aedc288\", \"target_ref\": \"attack-pattern--092648e9-528b-41e5-9e5a-1540c2a8c97e\"}, {\"type\": \"relationship\", \"spec_version\": \"2.1\", \"id\": \"relationship--dd0a3a1b-924a-4c91-a16b-fbb3ebfebfb3\", \"created\": \"2025-05-13T14:33:12.564598Z\", \"modified\": \"2025-05-13T14:33:12.564598Z\", \"relationship_type\": \"uses\", \"source_ref\": \"malware--c33c30ec-a813-4f4e-b572-df1c8aedc288\", \"target_ref\": \"attack-pattern--26c91975-3c48-44bd-9af9-303476f568a3\"}, {\"type\": \"relationship\", \"spec_version\": \"2.1\", \"id\": \"relationship--b6c744df-b089-41cd-bf7e-c39a3ff9c03f\", \"created\": \"2025-05-13T14:33:12.565598Z\", \"modified\": \"2025-05-13T14:33:12.565598Z\", \"relationship_type\": \"uses\", \"source_ref\": \"malware--c33c30ec-a813-4f4e-b572-df1c8aedc288\", \"target_ref\": \"attack-pattern--c10698f3-719e-4fc8-94da-2ad0212b3f3e\"}, {\"type\": \"relationship\", \"spec_version\": \"2.1\", \"id\": \"relationship--e448d37b-9a29-4d22-889c-2d7fe9df88c7\", \"created\": \"2025-05-13T14:33:12.565598Z\", \"modified\": \"2025-05-13T14:33:12.565598Z\", \"relationship_type\": \"uses\", \"source_ref\": \"malware--c33c30ec-a813-4f4e-b572-df1c8aedc288\", \"target_ref\": \"attack-pattern--78faffbf-57ef-40fb-9ddb-5c0e812206a3\"}, {\"type\": \"relationship\", \"spec_version\": \"2.1\", \"id\": \"relationship--05e94fe2-35a0-48f1-8867-00ff154b073a\", \"created\": \"2025-05-13T14:33:12.565598Z\", \"modified\": \"2025-05-13T14:33:12.565598Z\", \"relationship_type\": \"uses\", \"source_ref\": \"malware--c33c30ec-a813-4f4e-b572-df1c8aedc288\", \"target_ref\": \"attack-pattern--49b6fe0d-377b-4f96-a280-1e2c85d7bf47\"}, {\"type\": \"relationship\", \"spec_version\": \"2.1\", \"id\": \"relationship--406acc70-c7b8-4cf4-b5e6-b095e8637212\", \"created\": \"2025-05-13T14:33:12.566598Z\", \"modified\": \"2025-05-13T14:33:12.566598Z\", \"relationship_type\": \"uses\", \"source_ref\": \"malware--c33c30ec-a813-4f4e-b572-df1c8aedc288\", \"target_ref\": \"attack-pattern--7d8ef7f1-0248-43c5-bd1c-d9b09904a951\"}, {\"type\": \"relationship\", \"spec_version\": \"2.1\", \"id\": \"relationship--49a11a63-cb6c-4b3b-98bb-6224bb0d5516\", \"created\": \"2025-05-13T14:33:12.566598Z\", \"modified\": \"2025-05-13T14:33:12.566598Z\", \"relationship_type\": \"uses\", \"source_ref\": \"malware--c33c30ec-a813-4f4e-b572-df1c8aedc288\", \"target_ref\": \"attack-pattern--f9c97816-0e7f-49d4-971a-f45cd34eaf8c\"}, {\"type\": \"relationship\", \"spec_version\": \"2.1\", \"id\": \"relationship--3ef4b55a-ed09-4544-b1de-7042f201f385\", \"created\": \"2025-05-13T14:33:12.566598Z\", \"modified\": \"2025-05-13T14:33:12.566598Z\", \"relationship_type\": \"uses\", \"source_ref\": \"malware--c33c30ec-a813-4f4e-b572-df1c8aedc288\", \"target_ref\": \"attack-pattern--dfd0208b-5722-41d0-846c-3050306cba0a\"}, {\"type\": \"relationship\", \"spec_version\": \"2.1\", \"id\": \"relationship--0722cd99-ce7e-4e25-b316-a720aa7f316b\", \"created\": \"2025-05-13T14:33:12.566598Z\", \"modified\": \"2025-05-13T14:33:12.566598Z\", \"relationship_type\": \"uses\", \"source_ref\": \"threat-actor--e2ca0441-27d5-48d1-a7a8-082af939fe17\", \"target_ref\": \"attack-pattern--3b6c69e4-5e1a-435a-9d00-82879ce38ff9\"}, {\"type\": \"relationship\", \"spec_version\": \"2.1\", \"id\": \"relationship--a71e8e09-4fb2-4ee0-9678-79719df531ad\", \"created\": \"2025-05-13T14:33:14.886485Z\", \"modified\": \"2025-05-13T14:33:14.886485Z\", \"relationship_type\": \"targets\", \"source_ref\": \"malware--c33c30ec-a813-4f4e-b572-df1c8aedc288\", \"target_ref\": \"location--f08f38f1-6565-4de9-a7dc-9b4d07b03eb9\"}, {\"type\": \"relationship\", \"spec_version\": \"2.1\", \"id\": \"relationship--7f3debd5-ac3a-4fad-b89e-815bef2ca7d6\", \"created\": \"2025-05-13T14:33:14.887484Z\", \"modified\": \"2025-05-13T14:33:14.887484Z\", \"relationship_type\": \"targets\", \"source_ref\": \"malware--c33c30ec-a813-4f4e-b572-df1c8aedc288\", \"target_ref\": \"location--1423210c-185d-4488-950f-515da4ba267d\"}, {\"type\": \"relationship\", \"spec_version\": \"2.1\", \"id\": \"relationship--95622594-1aa2-4e4e-af69-dcf8c8f86f0f\", \"created\": \"2025-05-13T14:33:14.887484Z\", \"modified\": \"2025-05-13T14:33:14.887484Z\", \"relationship_type\": \"targets\", \"source_ref\": \"malware--c33c30ec-a813-4f4e-b572-df1c8aedc288\", \"target_ref\": \"location--5f16f806-0371-4b99-97b8-5344328cf090\"}, {\"type\": \"relationship\", \"spec_version\": \"2.1\", \"id\": \"relationship--1b89ab34-38ed-40df-926e-e0457b82fcea\", \"created\": \"2025-05-13T14:33:14.887484Z\", \"modified\": \"2025-05-13T14:33:14.887484Z\", \"relationship_type\": \"targets\", \"source_ref\": \"malware--c33c30ec-a813-4f4e-b572-df1c8aedc288\", \"target_ref\": \"location--1625fca1-c3a3-480f-8e06-ca110cdc632d\"}, {\"type\": \"relationship\", \"spec_version\": \"2.1\", \"id\": \"relationship--ec08560b-4dec-4aa9-8e4c-3f945434e52b\", \"created\": \"2025-05-13T14:33:14.888484Z\", \"modified\": \"2025-05-13T14:33:14.888484Z\", \"relationship_type\": \"targets\", \"source_ref\": \"malware--c33c30ec-a813-4f4e-b572-df1c8aedc288\", \"target_ref\": \"location--4ccda3ac-ad59-4649-bb34-97766ed059f7\"}, {\"type\": \"relationship\", \"spec_version\": \"2.1\", \"id\": \"relationship--13984657-2cf7-4dc8-81cb-6d1f0d705af6\", \"created\": \"2025-05-13T14:33:14.888484Z\", \"modified\": \"2025-05-13T14:33:14.888484Z\", \"relationship_type\": \"targets\", \"source_ref\": \"malware--c33c30ec-a813-4f4e-b572-df1c8aedc288\", \"target_ref\": \"location--b203a7ea-4571-4e02-b9f9-c464f7fc1d8f\"}]}\n"
     ]
    }
   ],
   "source": [
    "stix_bundle = stix2.Bundle(list(stix_malwares.values()), list(stix_threat_actors.values()), stix_attack_patterns, stix_targets, stix_relationships)\n",
    "\n",
    "print(stix_bundle.serialize())"
   ]
  },
  {
   "cell_type": "code",
   "execution_count": null,
   "id": "bf93a5c2",
   "metadata": {},
   "outputs": [],
   "source": []
  },
  {
   "cell_type": "code",
   "execution_count": null,
   "id": "6481927d",
   "metadata": {},
   "outputs": [],
   "source": []
  },
  {
   "cell_type": "code",
   "execution_count": 18,
   "id": "881795a7",
   "metadata": {},
   "outputs": [],
   "source": [
    "scraper.close()"
   ]
  }
 ],
 "metadata": {
  "kernelspec": {
   "display_name": "venv",
   "language": "python",
   "name": "python3"
  },
  "language_info": {
   "codemirror_mode": {
    "name": "ipython",
    "version": 3
   },
   "file_extension": ".py",
   "mimetype": "text/x-python",
   "name": "python",
   "nbconvert_exporter": "python",
   "pygments_lexer": "ipython3",
   "version": "3.11.9"
  }
 },
 "nbformat": 4,
 "nbformat_minor": 5
}
